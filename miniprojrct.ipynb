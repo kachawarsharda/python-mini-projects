{
  "cells": [
    {
      "cell_type": "markdown",
      "source": [
        "# python restaurant program\n",
        "\n",
        "\n"
      ],
      "metadata": {
        "id": "JY1Ld--fnlGa"
      }
    },
    {
      "cell_type": "code",
      "execution_count": null,
      "metadata": {
        "colab": {
          "base_uri": "https://localhost:8080/"
        },
        "id": "aUBAGBmf1iT4",
        "outputId": "d44e6d19-0c80-4cf8-e084-879fafb0797b"
      },
      "outputs": [
        {
          "name": "stdout",
          "output_type": "stream",
          "text": [
            "welcome to our python restaurant\n",
            "pizza:  RS 40\n",
            "passta: RS 50\n",
            "burger: RS 60\n",
            "salad:  RS 70\n",
            "hotdog: RS 80\n",
            "coffee: RS 90\n",
            "enter the name of item you want to order:passta\n",
            "your item passta has been added to your order\n",
            "\n",
            "do you want to add another item (yes/no):yes\n",
            "enter the name of second item:sala\n",
            "sorry this sala item is no mention our menu\n",
            "\n",
            "your total amount of items is :50\n",
            "\n",
            "********enjoy your time with python resturant*****\n",
            "\n"
          ]
        }
      ],
      "source": [
        "# python restaurant program\n",
        "menu= {\n",
        "    'pizza':40,\n",
        "    'passta':50,\n",
        "    'burger':60,\n",
        "    'salad':70,\n",
        "    'hotdog':80,\n",
        "    'coffee':90,\n",
        "}\n",
        "print(\"welcome to our python restaurant\")\n",
        "print(\"pizza:  RS 40\\npassta: RS 50\\nburger: RS 60\\nsalad:  RS 70\\nhotdog: RS 80\\ncoffee: RS 90\")\n",
        "order_total=0\n",
        "item_1=input(\"enter the name of item you want to order:\")\n",
        "if item_1 in menu:\n",
        "    order_total += menu[item_1]\n",
        "    print(f\"your item {item_1} has been added to your order\\n\")\n",
        "else:\n",
        "  print(f\"sorry this {item_1} item is not mention our menu\\n\")\n",
        "\n",
        "next=input(\"do you want to add another item (yes/no):\")\n",
        "if next ==\"yes\":\n",
        "  item_2=input(\"enter the name of second item:\")\n",
        "  if item_2 in menu:\n",
        "    order_total += menu[item_2]\n",
        "    print(f\"your item {item_2} has been added to your account\\n\")\n",
        "  else:\n",
        "    print(f\"sorry this {item_2} item is no mention our menu\\n\")\n",
        "\n",
        "print(f\"your total amount of items is :{order_total}\\n\")\n",
        "\n",
        "print(\"********enjoy your time with python resturant*****\\n\")"
      ]
    },
    {
      "cell_type": "markdown",
      "metadata": {
        "id": "6Uo3vNGtD8_c"
      },
      "source": [
        "## banking project ✉ --2"
      ]
    },
    {
      "cell_type": "markdown",
      "metadata": {
        "id": "xaVj_KknD5Lx"
      },
      "source": []
    },
    {
      "cell_type": "code",
      "execution_count": null,
      "metadata": {
        "colab": {
          "base_uri": "https://localhost:8080/"
        },
        "id": "NIDGiRn1fMzI",
        "outputId": "1f91748a-5c0b-4d22-85b1-10e661e27137"
      },
      "outputs": [
        {
          "name": "stdout",
          "output_type": "stream",
          "text": [
            "Thank You ! Have a nice day\n",
            "Banking program\n",
            "1.Show Balance\n",
            "2.Deposit\n",
            "3.Withdraw\n",
            "4.Exit\n",
            "Enter your choice (1-4):2\n",
            "Enter an amount to be deposit500\n",
            "Banking program\n",
            "1.Show Balance\n",
            "2.Deposit\n",
            "3.Withdraw\n",
            "4.Exit\n",
            "Enter your choice (1-4):1\n",
            "Your balance is $500.00\n",
            "Banking program\n",
            "1.Show Balance\n",
            "2.Deposit\n",
            "3.Withdraw\n",
            "4.Exit\n",
            "Enter your choice (1-4):3\n",
            "Enter amount to be withdrawn:250\n",
            "Banking program\n",
            "1.Show Balance\n",
            "2.Deposit\n",
            "3.Withdraw\n",
            "4.Exit\n",
            "Enter your choice (1-4):1\n",
            "Your balance is $250.00\n",
            "Banking program\n",
            "1.Show Balance\n",
            "2.Deposit\n",
            "3.Withdraw\n",
            "4.Exit\n",
            "Enter your choice (1-4):4\n"
          ]
        }
      ],
      "source": [
        "def show_balance (balance):\n",
        "    print(f\"Your balance is ${balance:.2f}\")\n",
        "\n",
        "\n",
        "def deposit (balance):\n",
        "    amount = float (input(f\"Enter an amount to be deposit\"))\n",
        "\n",
        "    if amount < 0:\n",
        "        print(\"that's not a valid amount\")\n",
        "        return 0\n",
        "    else:\n",
        "        return amount\n",
        "\n",
        "def withdraw (balance):\n",
        "     amount= float(input(\"Enter amount to be withdrawn:\"))\n",
        "\n",
        "     if amount > balance:\n",
        "         print(\"insufficient funds\")\n",
        "         return 0\n",
        "     elif amount < 0:\n",
        "         print(\"Amount must be greater than zero\")\n",
        "         return 0\n",
        "     return amount\n",
        "def main ():\n",
        " balance=0\n",
        " is_running=\"True\"\n",
        "\n",
        " while is_running:\n",
        "    print(\"Banking program\")\n",
        "    print(\"1.Show Balance\")\n",
        "    print(\"2.Deposit\")\n",
        "    print(\"3.Withdraw\")\n",
        "    print(\"4.Exit\")\n",
        "\n",
        "    choice = input(\"Enter your choice (1-4):\")\n",
        "\n",
        "    if choice == '1':\n",
        "        show_balance(balance)\n",
        "    elif choice == '2':\n",
        "        balance += deposit(balance)\n",
        "    elif choice == '3':\n",
        "       balance -= withdraw(balance)\n",
        "    elif choice == '4':\n",
        "        is_running = False\n",
        "    else:\n",
        "        print(\"that's not a valid choice\")\n",
        "print(\"Thank You ! Have a nice day\")\n",
        "\n",
        "main()"
      ]
    },
    {
      "cell_type": "markdown",
      "metadata": {
        "id": "5xNXTgsaEXGI"
      },
      "source": [
        "## simple calculator---3"
      ]
    },
    {
      "cell_type": "code",
      "execution_count": null,
      "metadata": {
        "colab": {
          "base_uri": "https://localhost:8080/"
        },
        "id": "yreYJ09sfy59",
        "outputId": "2cfb4bae-05e2-46a3-be82-a2d89d556f1a"
      },
      "outputs": [
        {
          "name": "stdout",
          "output_type": "stream",
          "text": [
            "enter any operater (+ - * /)+\n",
            "enter first numbrer:20\n",
            "enter sceond number:20\n",
            "40.0\n"
          ]
        }
      ],
      "source": [
        "operater=input(\"enter any operater (+ - * /)\")\n",
        "n1=float(input(\"enter first numbrer:\"))\n",
        "n2=float(input(\"enter sceond number:\"))\n",
        "if operater == '+':\n",
        " result=n1+n2\n",
        " print(round(result,3))\n",
        "elif operater == '-':\n",
        "  result=n1-n2\n",
        "  print(round(result,3))\n",
        "elif operater == '*':\n",
        "  result=n1*n2\n",
        "  print(round(result,3))\n",
        "elif operater == '/':\n",
        "  result=n1/n2\n",
        "  print(round(result))\n",
        "else:\n",
        "  print(f\"{operater} this operater is not valid :\")"
      ]
    },
    {
      "cell_type": "markdown",
      "metadata": {
        "id": "r_eXzCzXqfN4"
      },
      "source": [
        "### python simple interest calculator--4"
      ]
    },
    {
      "cell_type": "code",
      "execution_count": null,
      "metadata": {
        "colab": {
          "base_uri": "https://localhost:8080/"
        },
        "id": "gW7W8toVqctq",
        "outputId": "4c0fae00-a137-4211-c2b6-02aa2da8bb01"
      },
      "outputs": [
        {
          "name": "stdout",
          "output_type": "stream",
          "text": [
            "enter the principle amount:100000\n",
            "enter the rate of the interest:7.5\n",
            "enter the time:2\n",
            "-------compound interest--------\n",
            "total amount principel:100000.0\n",
            "rate  of interest is a:7.5\n",
            "time of the interest:2 years\n",
            "total interest: 15000.0\n",
            "balance after 2 year's: rs115000.00\n"
          ]
        }
      ],
      "source": [
        "principle=0\n",
        "rate=0\n",
        "time=0\n",
        "\n",
        "while principle <= 0:\n",
        "  principle=float(input(\"enter the principle amount:\"))\n",
        "  if principle <= 0:\n",
        "    print(\"principle can not be less than or equal to zero:\")\n",
        "\n",
        "while rate <= 0:\n",
        "  rate=float(input(\"enter the rate of the interest:\"))\n",
        "  if rate <= 0:\n",
        "    print(\"rate can't be less than or equal to zero\")\n",
        "\n",
        "while time <= 0:\n",
        "  time=int(input(\"enter the time:\"))\n",
        "  if time <= 0:\n",
        "    print(\"time can't be less than or equal to zero \")\n",
        "\n",
        "print(\"-------compound interest--------\")\n",
        "\n",
        "print(f\"total amount principel:{principle}\")\n",
        "print(f\"rate  of interest is a:{rate}\")\n",
        "print(f\"time of the interest:{time} years\")\n",
        "\n",
        "total=principle*rate*time\n",
        "total=total/100\n",
        "print(\"total interest:\",total)\n",
        "total=total+principle\n",
        "print(f\"balance after {time} year's: rs{total:.2f}\")\n",
        "\n",
        "\n"
      ]
    },
    {
      "cell_type": "markdown",
      "metadata": {
        "id": "KgK2ra8t30HA"
      },
      "source": [
        "# shoping cart in python--5"
      ]
    },
    {
      "cell_type": "code",
      "execution_count": null,
      "metadata": {
        "colab": {
          "base_uri": "https://localhost:8080/"
        },
        "id": "kWZplCeO39Cm",
        "outputId": "3214cd47-2153-44de-b9c1-5b62966982b0"
      },
      "outputs": [
        {
          "name": "stdout",
          "output_type": "stream",
          "text": [
            "enter a food name(q for quit):ssfsf\n",
            "enter the price of the food:55\n",
            "enter a food name(q for quit):q\n",
            "['ssfsf']\n",
            "\n",
            "total amount is a 55.0\n"
          ]
        }
      ],
      "source": [
        "foods=[]\n",
        "prices=[]\n",
        "total=0\n",
        "\n",
        "while True:\n",
        "  food=input(\"enter a food name(q for quit):\")\n",
        "  if food.lower() == 'q':\n",
        "    break\n",
        "  else:\n",
        "    price=float(input(\"enter the price of the food:\"))\n",
        "    foods.append(food)\n",
        "    prices.append(price)\n",
        "\n",
        "for food in foods:\n",
        "\n",
        " print(foods)\n",
        "\n",
        "for price in prices:\n",
        "  total += price\n",
        "print()\n",
        "print(f\"total amount is a {total}\")\n"
      ]
    },
    {
      "cell_type": "markdown",
      "metadata": {
        "id": "sEIO2aOcqc_j"
      },
      "source": [
        "# quize game in python--6"
      ]
    },
    {
      "cell_type": "code",
      "execution_count": null,
      "metadata": {
        "colab": {
          "base_uri": "https://localhost:8080/"
        },
        "id": "uBnNcbBjqjxF",
        "outputId": "1718b520-f6d9-46e6-fa09-84ab2f3fed62"
      },
      "outputs": [
        {
          "output_type": "stream",
          "name": "stdout",
          "text": [
            "---------------------------------\n",
            "1.How many bones are there in adult human body ?\n",
            "A.186\n",
            "B.206\n",
            "C.226\n",
            "D.207\n",
            "enter (A,B,C,D)b\n",
            "correct!\n",
            "---------------------------------\n",
            "2.In which city is the Eiffel tower located ?\n",
            "A.London\n",
            "B.Berlin\n",
            "C.Paris\n",
            "D.Pome\n",
            "enter (A,B,C,D)c\n",
            "correct!\n",
            "---------------------------------\n",
            "3.What is the capital city of Japan ?\n",
            "A.Kyoto\n",
            "B.Osaka\n",
            "C.Hiroshima\n",
            "D.Tokyo\n",
            "enter (A,B,C,D)d\n",
            "correct!\n",
            "---------------------------------\n",
            "4.Which country has the most natural lakes in the world ?\n",
            "A.Finland\n",
            "B.Canada\n",
            "C.Russia\n",
            "D.India\n",
            "enter (A,B,C,D)a\n",
            "incorrect!\n",
            "B is the correct answer\n",
            "---------------------------------\n",
            "5.What parent company owns both Instagram & Whatsapp ?\n",
            "A.Apple\n",
            "B.Google\n",
            "C.meta\n",
            "D.Amazon\n",
            "enter (A,B,C,D)c\n",
            "correct!\n",
            "---------------------------------\n",
            "            Result\n",
            "---------------------------------\n",
            "answers:\n",
            "B C D B C \n",
            "guesses:\n",
            "B C D A C \n",
            "your score is :80%\n"
          ]
        }
      ],
      "source": [
        "# quize game in python\n",
        "questions=(\"1.How many bones are there in adult human body ?\",\n",
        "\"2.In which city is the Eiffel tower located ?\",\n",
        "\"3.What is the capital city of Japan ?\",\n",
        "\"4.Which country has the most natural lakes in the world ?\",\n",
        "\"5.What parent company owns both Instagram & Whatsapp ?\")\n",
        "\n",
        "options=((\"A.186\", \"B.206\", \"C.226\", \"D.207\"),\n",
        "(\"A.London\", \"B.Berlin\", \"C.Paris\", \"D.Pome\"),\n",
        "(\"A.Kyoto\", \"B.Osaka\", \"C.Hiroshima\", \"D.Tokyo\"),\n",
        "(\"A.Finland\", \"B.Canada\", \"C.Russia\", \"D.India\"),\n",
        "(\"A.Apple\", \"B.Google\", \"C.meta\", \"D.Amazon\"))\n",
        "\n",
        "answers=(\"B\", \"C\", \"D\", \"B\", \"C\")\n",
        "\n",
        "guesses=[]\n",
        "score=0\n",
        "question_num=0\n",
        "\n",
        "for question in questions:\n",
        "  print(\"---------------------------------\")\n",
        "  print(question)\n",
        "  for option in options[question_num]:\n",
        "    print(option)\n",
        "\n",
        "  guess=input(\"enter (A,B,C,D)\").upper()\n",
        "  guesses.append(guess)\n",
        "  if guess == answers[question_num]:\n",
        "      score +=1\n",
        "      print(\"correct!\")\n",
        "  else:\n",
        "      print(\"incorrect!\")\n",
        "      print(f\"{answers[question_num]} is the correct answer\")\n",
        "  question_num += 1\n",
        "\n",
        "print(\"---------------------------------\")\n",
        "print(\"            Result\"               )\n",
        "print(\"---------------------------------\")\n",
        "print(\"answers:\")\n",
        "for answer in answers:\n",
        "  print(answer,end=\" \")\n",
        "print()\n",
        "\n",
        "print(\"guesses:\")\n",
        "for guess in guesses:\n",
        "  print(guess,end=\" \")\n",
        "print()\n",
        "score=int(score / len(questions)*100)\n",
        "print(f\"your score is :{score}%\")"
      ]
    },
    {
      "cell_type": "markdown",
      "source": [
        "# first project"
      ],
      "metadata": {
        "id": "tbRF1fvLm5Pv"
      }
    },
    {
      "cell_type": "code",
      "execution_count": null,
      "metadata": {
        "colab": {
          "base_uri": "https://localhost:8080/"
        },
        "id": "GG1QYP5IGg80",
        "outputId": "33ffb527-ef16-44c5-8d11-0d4d3e89f4f1"
      },
      "outputs": [
        {
          "output_type": "stream",
          "name": "stdout",
          "text": [
            "enter one of them\n",
            "student\n",
            "teacher\n",
            "programmer\n",
            "employee\n",
            "enter your calification:programmer\n",
            "you are selected\n",
            "Wow you are programer. there is a game, if tou want enter (yes/no):yes\n",
            "--------------------------------------------\n",
            "WELcome to programer game\n",
            "--------------------------------------------\n",
            "enter your namesoni\n",
            "please enter current year:2025\n",
            "enter your birthday year:1995\n",
            "hi soni your age is 30 hmm younger\n"
          ]
        }
      ],
      "source": [
        "#if else program !\n",
        "list1 =[\"student\",\"teacher\",\"programmer\",\"employee\"]\n",
        "print(\"enter one of them\\nstudent\\nteacher\\nprogrammer\\nemployee\")\n",
        "name=input(\"enter your calification:\")\n",
        "if name in list1:\n",
        "  print(\"you are selected\")\n",
        "else:\n",
        "  print(\"you are not selected\")\n",
        "  print(\"have a good day dear!\")\n",
        "#------------------------------------------------------------------------------------\n",
        "if name==\"student\":\n",
        "  student1=input(\"in that block student mark calculation if you want enter (yes/no)\")\n",
        "  if student1 == \"yes\":\n",
        "    sut=input(\"enter your full name:\")\n",
        "    mark=int(input(\"enter your total five subject mark you got\"))\n",
        "    total=(mark/500)*100\n",
        "    print(f\"hii {sut} your total mark is {total}\")\n",
        "    if total>=35:\n",
        "      print(\"you are pass\")\n",
        "    else:\n",
        "        print(\"you are fail\")\n",
        "  else:\n",
        "    print(\"thank you as your wish\")\n",
        "#-----------------------------------------------------------------------------\n",
        "if name == \"teacher\":\n",
        "  teacher1=input(\"if you want go forward enter (yes/no):\")\n",
        "  if teacher1 == \"yes\":\n",
        "   teacher1=0\n",
        "   emp1=input(\"enter your name:\")\n",
        "   emp = input(\"enetr your subject\")\n",
        "   if emp == \"english\":\n",
        "      print(f\"wow {emp1} you are english teacher\")\n",
        "   elif emp == \"hindi\":\n",
        "     print(f\"Wow {emp1} you are hindi teacher\")\n",
        "   elif emp == \"maths\":\n",
        "     print(f\"Wow {emp1} you are maths teacher\")\n",
        "   else:\n",
        "     print(f\" {emp1} you great teacher\")\n",
        "  else:\n",
        "   print(\"thank you as your wish\")\n",
        "#------------------------------------------------------------------------------------\n",
        "if name == \"programmer\":\n",
        "  pro1=input(\"Wow you are programer. there is a game, if tou want enter (yes/no):\")\n",
        "  if pro1 == \"yes\":\n",
        "   pro1=0\n",
        "   print(\"--------------------------------------------\")\n",
        "   print(\"WELcome to programer game\")\n",
        "   print(\"--------------------------------------------\")\n",
        "   pronam=input(\"enter your name\")\n",
        "   date=int(input(\"please enter current year:\"))\n",
        "   date1=int(input(\"enter your birthday year:\"))\n",
        "   calcu=date-date1\n",
        "   if calcu<=40:\n",
        "     print(f\"hi {pronam} your age is {calcu} hmm younger\")\n",
        "   else:\n",
        "     print(f\"hi {pronam} your age is {calcu} be healthy\")\n",
        "  else:\n",
        "   print(\"thank you as your wish\")\n",
        "#------------------------------------------------------------------------------------\n",
        "if name == \"employee\":\n",
        "  emp1=input(\"in this block employee slary if you want enter (yes/no)\")\n",
        "  if emp1 == \"yes\":\n",
        "    empnam=input(\"enter your name:\")\n",
        "    comp=input(\"enter your company name:\")\n",
        "    salary=float(input(\"Enter your salary:\"))\n",
        "    if salary>10000:\n",
        "      tax=0.15*salary\n",
        "      netsalary=salary-tax\n",
        "      print(f\"hi {empnam} your {comp} company net salary is {netsalary} \")\n",
        "    else:\n",
        "      netsalary=salary\n",
        "      print(f\"hi {empnam} in your {comp} company net salary is {netsalary} \")\n",
        "  else:\n",
        "    print(\"thank you as your wish\")\n",
        "#------------------------------------------------------------------------------------"
      ]
    },
    {
      "cell_type": "markdown",
      "metadata": {
        "id": "xXO8IjisUp7C"
      },
      "source": [
        "# number gueesing game in python--7"
      ]
    },
    {
      "cell_type": "code",
      "execution_count": null,
      "metadata": {
        "colab": {
          "base_uri": "https://localhost:8080/"
        },
        "id": "7qf9Sj8uU0vT",
        "outputId": "7cf50a18-9676-4dc7-a615-1e2526bd49bf"
      },
      "outputs": [
        {
          "name": "stdout",
          "output_type": "stream",
          "text": [
            "-------------------------------------------------------\n",
            "                  number gussesing game                \n",
            "-------------------------------------------------------\n",
            "guess the number between 1 and 100\n",
            "enter your guess:56\n",
            "to heigh ! try again!\n",
            "enter your guess:55\n",
            "to heigh ! try again!\n",
            "enter your guess:45\n",
            "to heigh ! try again!\n",
            "enter your guess:30\n",
            "to heigh ! try again!\n",
            "enter your guess:15\n",
            "to low! try again!\n",
            "enter your guess:20\n",
            "to low! try again!\n",
            "enter your guess:25\n",
            "to low! try again!\n",
            "enter your guess:30\n",
            "to heigh ! try again!\n",
            "enter your guess:26\n",
            "correct! the answer was 26 \n",
            "your number of gauesses is 9\n"
          ]
        }
      ],
      "source": [
        "import random\n",
        "lowest_num=1\n",
        "highest_num=100\n",
        "answer=random.randint(lowest_num,highest_num)\n",
        "guesses=0\n",
        "is_runing = True\n",
        "print(\"-------------------------------------------------------\")\n",
        "print(\"                  number gussesing game                \")\n",
        "print(\"-------------------------------------------------------\")\n",
        "print(f\"guess the number between {lowest_num} and {highest_num}\")\n",
        "while is_runing :\n",
        "  guess=input(\"enter your guess:\")\n",
        "  if guess.isdigit():\n",
        "    guess=int(guess)\n",
        "    guesses += 1\n",
        "    if guess < lowest_num or guess > highest_num:\n",
        "      print(\"that number is out of the range\")\n",
        "      print(f\"guess the number between {lowest_num} to {highest_num}\")\n",
        "    elif guess < answer:\n",
        "      print(\"to low! try again!\")\n",
        "    elif guess > answer:\n",
        "      print(\"to heigh ! try again!\")\n",
        "    else:\n",
        "      print(f\"correct! the answer was {answer} \")\n",
        "      print(f\"your number of gauesses is {guesses}\")\n",
        "      is_runing = False\n",
        "  else:\n",
        "   print(\"enter valid number:\")\n",
        "   print(f\"guess the number between {lowest_num} to {highest_num}\")"
      ]
    },
    {
      "cell_type": "markdown",
      "source": [
        "# csc file"
      ],
      "metadata": {
        "id": "-i78-X4Tmrcb"
      }
    },
    {
      "cell_type": "code",
      "execution_count": null,
      "metadata": {
        "colab": {
          "base_uri": "https://localhost:8080/"
        },
        "id": "FLjWU2BruU93",
        "outputId": "e3e0479a-1ae5-45c8-d726-7e854e7a89bd"
      },
      "outputs": [
        {
          "output_type": "stream",
          "name": "stdout",
          "text": [
            "file is created\n"
          ]
        }
      ],
      "source": [
        "import csv\n",
        "try:\n",
        "    with open(\"menu.csv\",mode='w',encoding='utf_8') as f:\n",
        "      writer = csv.writer(f)\n",
        "      data=[['menue','price']]\n",
        "      data1=[[\"French Fries\", 106],\n",
        "    [\"Chilli Cheese\" ,\t115],\n",
        "    [\"Chilli Cheese \" ,\t\"115/-\"],\n",
        "    [\"Garlic Bread\"\t,\"98/-\"],\n",
        "    [\"Garlic Bread \"\t,\"119/-\"]]\n",
        "      writer.writerows(data)\n",
        "      writer.writerows(data1)\n",
        "except FileNotFoundError:\n",
        "   print(\"file not found\")\n",
        "\n",
        "else:\n",
        "  print(\"file is created\")\n",
        "\n",
        "\n",
        "\n"
      ]
    },
    {
      "cell_type": "markdown",
      "source": [
        "# furit shop project using class"
      ],
      "metadata": {
        "id": "QzSx5RBWlVFl"
      }
    },
    {
      "cell_type": "code",
      "execution_count": null,
      "metadata": {
        "colab": {
          "base_uri": "https://localhost:8080/"
        },
        "id": "8UgFSa5oKWsf",
        "outputId": "d1ef50d0-2f5f-4465-b3ce-ffc0b8e81351"
      },
      "outputs": [
        {
          "output_type": "stream",
          "name": "stdout",
          "text": [
            "*********************************************\n",
            "   ! Welcome to krishna resturant ! \n",
            "*********************************************\n",
            "   please enter choice below on them   \n",
            "--------------------------------------------------\n",
            " 1:furit\n",
            " 2:showitem\n",
            " 3:delete\n",
            " 4:total\n",
            " 5:quit\n",
            "--------------------------------------------------\n",
            "enter yor number above choice(for quit 5) 5\n",
            "Byyy have a nice day\n"
          ]
        }
      ],
      "source": [
        "class Basket():\n",
        "\n",
        "    a=[]\n",
        "    b=[]\n",
        "\n",
        "    def fruit_name(self):\n",
        "      try:\n",
        "       fruit=input(\"enter fruit name:\")\n",
        "       price=int(input(\"enter fruit price:\"))\n",
        "       self.a.append(fruit)\n",
        "       self.b.append(price)\n",
        "      except Exception as e:\n",
        "        print(e)\n",
        "      else:\n",
        "        print(\"furit added\")\n",
        "\n",
        "    def show(self):\n",
        "      for list1 in self.a:\n",
        "        print(list1)\n",
        "\n",
        "      for list2 in self.b:\n",
        "        print(list2)\n",
        "\n",
        "    def delete_item(self):\n",
        "      try:\n",
        "        list1=input(\"enter fruit name:\")\n",
        "        list2=input(\"enter fruit price:\")\n",
        "        self.a.remove(list1)\n",
        "        self.b.remove(list2)\n",
        "      except ValueError:\n",
        "         print(\"item not found\")\n",
        "      else:\n",
        "           print(\"item delete\")\n",
        "\n",
        "    def total(self):\n",
        "      sum=0\n",
        "      for total1 in self.b:\n",
        "        sum += total1\n",
        "\n",
        "      print(f\" your total amount is {sum}\")\n",
        "\n",
        "print(\"*\"*45)\n",
        "\n",
        "print(\"   ! Welcome to krishna resturant ! \")\n",
        "\n",
        "print(\"*\"*45)\n",
        "\n",
        "print(\"   please enter choice below on them   \")\n",
        "\n",
        "print(\"-\"*50)\n",
        "print(\" 1:furit\\n 2:showitem\\n 3:delete\\n 4:total\\n 5:quit\")\n",
        "print(\"-\"*50)\n",
        "\n",
        "while True:\n",
        "    try:\n",
        "       x=int(input(\"enter yor number above choice(for quit 5)\"))\n",
        "    except Exception as f:\n",
        "      print(\"enter valid number\",f)\n",
        "\n",
        "    if x==1:\n",
        "        basket=Basket()\n",
        "        basket.fruit_name()\n",
        "\n",
        "    if x==2:\n",
        "      basket.show()\n",
        "\n",
        "    if x==3:\n",
        "      basket.delete_item()\n",
        "\n",
        "    if x==4:\n",
        "      print(\"healthy fruit are always good for healty\")\n",
        "      basket.total()\n",
        "\n",
        "    if x==5:\n",
        "      print(\"Byyy have a nice day\")\n",
        "      break\n",
        "\n"
      ]
    },
    {
      "cell_type": "markdown",
      "source": [
        "# Contact App"
      ],
      "metadata": {
        "id": "dSTXVo2KbcSq"
      }
    },
    {
      "cell_type": "code",
      "source": [
        "contact = {}\n",
        "\n",
        "while True:\n",
        "  print(\"*\"*50)\n",
        "  print(\"Contact Book App\")\n",
        "  print(\"*\"*50)\n",
        "  print(\"1: Create contact\")\n",
        "  print(\"2: view contact\")\n",
        "  print(\"3: update contact\")\n",
        "  print(\"4: Delete contact\")\n",
        "  print(\"5: Search contact\")\n",
        "  print(\"6: count contact\")\n",
        "  print(\"7: Exit\")\n",
        "\n",
        "  choice=input(\"enter your choice\")\n",
        "\n",
        "  if choice =='1':\n",
        "    name=input(\"enter tour name = \")\n",
        "    if name in contact:\n",
        "      print(f\"Contact name{name} alredy exist\")\n",
        "    else:\n",
        "      age = int(input(\"Enter your age = \"))\n",
        "      email = input(\"Enter email =\")\n",
        "      mobile =input(\"Enter mobile number =\")\n",
        "      contact[name]= {'age':int(age),'email':email,'mobile':mobile}\n",
        "      print(f\"Contact name{name} has been created successfully\")\n",
        "\n",
        "  elif choice =='2':\n",
        "    name = input(\"Enter contact name to view = \")\n",
        "    if name in contact:\n",
        "      contacts = contact[name]\n",
        "      print(f\"name:{name},Age:{age},mobile number:{mobile}\")\n",
        "    else:\n",
        "      print(f\"Contact name{name} does not exist\")\n",
        "\n",
        "  elif choice =='3':\n",
        "    name = input(\"Enter name to update contact = \")\n",
        "    if name in contact:\n",
        "      age = input(\"Enter new age = \")\n",
        "      email = input(\"Enter new email = \")\n",
        "      mobile = input(\"Enter new mobile number = \")\n",
        "      contact[name] = {'age':int(age),'email':email,'mobile':mobile}\n",
        "    else:\n",
        "      print(f\"Contact name{name} does not exist\")\n",
        "\n",
        "  elif choice =='4':\n",
        "    name = input(\"enter contact name to delete = \")\n",
        "    if name in contact:\n",
        "      del contact[name]\n",
        "      print(f\"contact name{name} has been deleted successfully!\")\n",
        "    else:\n",
        "      print(f\"Contact name{name} does not exist\")\n",
        "\n",
        "  elif choice =='5':\n",
        "   search_name= input(\"enter cantact name to search:\")\n",
        "   found=False\n",
        "   for name,contact in contact.items():\n",
        "      if search_name.lower() in name.lower():\n",
        "        print(f\"founs_name:{name},Age:{age},mobile number:{mobile},emsail:{email}\")\n",
        "        found = True\n",
        "   if not found:\n",
        "    print(f\" no contact found with{search_name}\")\n",
        "\n",
        "  elif choice == '6':\n",
        "    print(f\"Total contact in your book:{len(contact)}\")\n",
        "\n",
        "  elif choice == '7':\n",
        "    print(\"Good bye...Closing the program !\")\n",
        "    break\n",
        "  else:\n",
        "    print(\"Invalid choice. Please select a valid option.\")"
      ],
      "metadata": {
        "colab": {
          "base_uri": "https://localhost:8080/"
        },
        "id": "LP0uctGvbl9A",
        "outputId": "a858af87-4962-48e8-afd8-5f1cf7eb7f12"
      },
      "execution_count": null,
      "outputs": [
        {
          "output_type": "stream",
          "name": "stdout",
          "text": [
            "**************************************************\n",
            "Contact Book App\n",
            "**************************************************\n",
            "1: Create contact\n",
            "2: view contact\n",
            "3: update contact\n",
            "4: Delete contact\n",
            "5: Search contact\n",
            "6: count contact\n",
            "7: Exit\n",
            "enter your choice1\n",
            "enter tour name = sharda\n",
            "Enter your age = 21\n",
            "Enter email =shardak@gmail.com\n",
            "Enter mobile number =12223456789\n",
            "Contact namesharda has been created successfully\n",
            "**************************************************\n",
            "Contact Book App\n",
            "**************************************************\n",
            "1: Create contact\n",
            "2: view contact\n",
            "3: update contact\n",
            "4: Delete contact\n",
            "5: Search contact\n",
            "6: count contact\n",
            "7: Exit\n",
            "enter your choice2\n",
            "Enter contact name to view = 2\n",
            "Contact name2 does not exist\n",
            "**************************************************\n",
            "Contact Book App\n",
            "**************************************************\n",
            "1: Create contact\n",
            "2: view contact\n",
            "3: update contact\n",
            "4: Delete contact\n",
            "5: Search contact\n",
            "6: count contact\n",
            "7: Exit\n",
            "enter your choice2\n",
            "Enter contact name to view = sharda\n",
            "name:sharda,Age:21,mobile number:12223456789\n",
            "**************************************************\n",
            "Contact Book App\n",
            "**************************************************\n",
            "1: Create contact\n",
            "2: view contact\n",
            "3: update contact\n",
            "4: Delete contact\n",
            "5: Search contact\n",
            "6: count contact\n",
            "7: Exit\n",
            "enter your choice1\n",
            "enter tour name = lakshemi\n",
            "Enter your age = 21\n",
            "Enter email =asdxafxcs@gmail.com\n",
            "Enter mobile number =312423421534\n",
            "Contact namelakshemi has been created successfully\n",
            "**************************************************\n",
            "Contact Book App\n",
            "**************************************************\n",
            "1: Create contact\n",
            "2: view contact\n",
            "3: update contact\n",
            "4: Delete contact\n",
            "5: Search contact\n",
            "6: count contact\n",
            "7: Exit\n",
            "enter your choice2\n",
            "Enter contact name to view = ramya\n",
            "Contact nameramya does not exist\n",
            "**************************************************\n",
            "Contact Book App\n",
            "**************************************************\n",
            "1: Create contact\n",
            "2: view contact\n",
            "3: update contact\n",
            "4: Delete contact\n",
            "5: Search contact\n",
            "6: count contact\n",
            "7: Exit\n",
            "enter your choicelakshemi\n",
            "Invalid choice. Please select a valid option.\n",
            "**************************************************\n",
            "Contact Book App\n",
            "**************************************************\n",
            "1: Create contact\n",
            "2: view contact\n",
            "3: update contact\n",
            "4: Delete contact\n",
            "5: Search contact\n",
            "6: count contact\n",
            "7: Exit\n",
            "enter your choicelakshemi\n",
            "Invalid choice. Please select a valid option.\n",
            "**************************************************\n",
            "Contact Book App\n",
            "**************************************************\n",
            "1: Create contact\n",
            "2: view contact\n",
            "3: update contact\n",
            "4: Delete contact\n",
            "5: Search contact\n",
            "6: count contact\n",
            "7: Exit\n",
            "enter your choice2\n",
            "Enter contact name to view = lakshemi\n",
            "name:lakshemi,Age:21,mobile number:312423421534\n",
            "**************************************************\n",
            "Contact Book App\n",
            "**************************************************\n",
            "1: Create contact\n",
            "2: view contact\n",
            "3: update contact\n",
            "4: Delete contact\n",
            "5: Search contact\n",
            "6: count contact\n",
            "7: Exit\n",
            "enter your choice6\n",
            "Total contact in your book:2\n",
            "**************************************************\n",
            "Contact Book App\n",
            "**************************************************\n",
            "1: Create contact\n",
            "2: view contact\n",
            "3: update contact\n",
            "4: Delete contact\n",
            "5: Search contact\n",
            "6: count contact\n",
            "7: Exit\n",
            "enter your choice7\n",
            "Good bye...Closing the program !\n"
          ]
        }
      ]
    },
    {
      "cell_type": "code",
      "source": [
        "# method overloding\n",
        "class area:\n",
        "  def find_area(self,a=None,b=None):\n",
        "    if a!= None and b!=None:\n",
        "      print(\"area of rectangle:\",(a*b))\n",
        "\n",
        "    elif a!=None:\n",
        "      print(\"area of square:\",(a*a))\n",
        "\n",
        "    else:\n",
        "      print(\"Nothing to find\")\n",
        "\n",
        "obj=area()\n",
        "obj.find_area()\n",
        "obj.find_area(10,20)\n",
        "obj.find_area(10)"
      ],
      "metadata": {
        "colab": {
          "base_uri": "https://localhost:8080/"
        },
        "id": "shvSX0AsTdhj",
        "outputId": "642754f1-2557-4910-f29d-2f2c2b3958af"
      },
      "execution_count": null,
      "outputs": [
        {
          "output_type": "stream",
          "name": "stdout",
          "text": [
            "Nothing to find\n",
            "area of rectangle: 200\n",
            "area of square: 100\n"
          ]
        }
      ]
    },
    {
      "cell_type": "code",
      "source": [
        "#method overriding\n",
        "# method overriding is the method having the same name\n",
        "#with same arguments.\n",
        "class A:\n",
        "  def showBata(self):\n",
        "    print(\" i am in a\")\n",
        "\n",
        "class B(A):\n",
        "  def showBata(self):\n",
        "    print(\"i am in b class\")\n",
        "    super().showBata()\n",
        "\n",
        "cc=B()\n",
        "cc.showBata()"
      ],
      "metadata": {
        "colab": {
          "base_uri": "https://localhost:8080/"
        },
        "id": "LK46mXT0ZBd1",
        "outputId": "e24482c3-e15c-4857-bea0-6e34a0fb8313"
      },
      "execution_count": null,
      "outputs": [
        {
          "output_type": "stream",
          "name": "stdout",
          "text": [
            "i am in b class\n",
            " i am in a\n"
          ]
        }
      ]
    },
    {
      "cell_type": "code",
      "source": [
        "class my:\n",
        "  def sum(self,a,b,c):\n",
        "    s=a+b+c\n",
        "    return s\n",
        "\n",
        "bb=my()\n",
        "print(bb.sum(10,20,30))"
      ],
      "metadata": {
        "colab": {
          "base_uri": "https://localhost:8080/"
        },
        "id": "-8m3hm8ObJjf",
        "outputId": "f7f18ea7-c15c-4100-d2cf-131e8afff4b3"
      },
      "execution_count": null,
      "outputs": [
        {
          "output_type": "stream",
          "name": "stdout",
          "text": [
            "60\n"
          ]
        }
      ]
    },
    {
      "cell_type": "markdown",
      "source": [
        "# Bank Management System"
      ],
      "metadata": {
        "id": "SC2fITptaitU"
      }
    },
    {
      "cell_type": "code",
      "source": [
        "print(\"-\"*70)\n",
        "print(\"              Welcome to the Bank Management System!           \".upper())\n",
        "print(\"-\"*70,\"\\n\")\n",
        "\n",
        "class Account:\n",
        "  def create(self):\n",
        "    self.account_number = int(input(\"enter your  account number : \",account_number))\n",
        "    self.name = input(\"enter your Account number name : \",name)\n",
        "    self.__balance=input(\" enter your  balance : \",balance)\n",
        "\n",
        "  def deposit(self,amount):\n",
        "    self.amount = input(\"enter your deposite amount\",amount)\n",
        "    if amount > 0:\n",
        "      self.__balance += amount\n",
        "      print(f\" Deposite {amount} successfully.\\n your current balance:{self.__balance}\")\n",
        "    else:\n",
        "      print(\"Invalid deposite amount!\")\n",
        "\n",
        "  def withdraw(self,amount):\n",
        "    self.amount = input(\"enter your Withdraw amount : \")\n",
        "    if 0 < amount <= self.__balance:\n",
        "      self.__balance -= amount\n",
        "      print(f\"Withdraw {amount} successfully.\\n current balance is : {self.__balance}\")\n",
        "    else:\n",
        "        print(\"Insufficient funds or invalid amount!\")\n",
        "\n",
        "  def display_account_details(self):\n",
        "     print(f\"Account Number : {self.account_number}\")\n",
        "     print(f\" Account Holder : {self.name}\")\n",
        "     print(f\"Total balance : {self.__balance}\")\n",
        "\n",
        "print(\" choice one option\\n 1:Create Account\\n 2:Deposite Amount\\n 3:withdraw Amount\\n 4:Display Account\")\n",
        "\n",
        "ch =int(input(\" Enter your choice : \"))\n",
        "if ch == 1:\n",
        "  bb=Account()\n",
        "  bb.create()\n",
        "\n"
      ],
      "metadata": {
        "colab": {
          "base_uri": "https://localhost:8080/"
        },
        "id": "fucMK9bOahTV",
        "outputId": "d71ac7be-4045-42bd-9aea-c611f2894bda"
      },
      "execution_count": null,
      "outputs": [
        {
          "name": "stdout",
          "output_type": "stream",
          "text": [
            "----------------------------------------------------------------------\n",
            "              WELCOME TO THE BANK MANAGEMENT SYSTEM!           \n",
            "---------------------------------------------------------------------- \n",
            "\n",
            " choice one option\n",
            " 1:Create Account\n",
            " 2:Deposite Amount\n",
            " 3:withdraw Amount\n",
            " 4:Display Account\n",
            " Enter your choice : 6\n"
          ]
        }
      ]
    },
    {
      "cell_type": "markdown",
      "source": [
        "# vioce assistance"
      ],
      "metadata": {
        "id": "6fM9SY_wiHdr"
      }
    },
    {
      "cell_type": "code",
      "source": [
        "import pyttsx3\n",
        "import speech_recognition as sr\n",
        "import webbrowser\n",
        "import datetime\n",
        "import pyjokes\n",
        "import pyaudio\n",
        "\n",
        "def sptext():\n",
        "  recognizer = sr.Recognizer()\n",
        "  with sr.Microphone() as source:\n",
        "    print(\"Listing......\")\n",
        "    recognizer.adjuct_for_ambient_noise(source)\n",
        "    audio = recognizer.listen(source)\n",
        "    try:\n",
        "      print(\"Recognizing......\")\n",
        "      data = recognizer.recognize_google(audio)\n",
        "      print(data)\n",
        "\n",
        "    except sr.UnknownValueError:\n",
        "     print(\"Not Understand\")\n",
        "\n",
        "sptext()"
      ],
      "metadata": {
        "colab": {
          "base_uri": "https://localhost:8080/",
          "height": 339
        },
        "id": "R714k3dxiafo",
        "outputId": "0e4f66e9-58c5-42f0-e31f-76185a45109b"
      },
      "execution_count": null,
      "outputs": [
        {
          "output_type": "error",
          "ename": "OSError",
          "evalue": "No Default Input Device Available",
          "traceback": [
            "\u001b[0;31m---------------------------------------------------------------------------\u001b[0m",
            "\u001b[0;31mOSError\u001b[0m                                   Traceback (most recent call last)",
            "\u001b[0;32m<ipython-input-29-d2d43a9b8646>\u001b[0m in \u001b[0;36m<cell line: 22>\u001b[0;34m()\u001b[0m\n\u001b[1;32m     20\u001b[0m      \u001b[0mprint\u001b[0m\u001b[0;34m(\u001b[0m\u001b[0;34m\"Not Understand\"\u001b[0m\u001b[0;34m)\u001b[0m\u001b[0;34m\u001b[0m\u001b[0;34m\u001b[0m\u001b[0m\n\u001b[1;32m     21\u001b[0m \u001b[0;34m\u001b[0m\u001b[0m\n\u001b[0;32m---> 22\u001b[0;31m \u001b[0msptext\u001b[0m\u001b[0;34m(\u001b[0m\u001b[0;34m)\u001b[0m\u001b[0;34m\u001b[0m\u001b[0;34m\u001b[0m\u001b[0m\n\u001b[0m",
            "\u001b[0;32m<ipython-input-29-d2d43a9b8646>\u001b[0m in \u001b[0;36msptext\u001b[0;34m()\u001b[0m\n\u001b[1;32m      8\u001b[0m \u001b[0;32mdef\u001b[0m \u001b[0msptext\u001b[0m\u001b[0;34m(\u001b[0m\u001b[0;34m)\u001b[0m\u001b[0;34m:\u001b[0m\u001b[0;34m\u001b[0m\u001b[0;34m\u001b[0m\u001b[0m\n\u001b[1;32m      9\u001b[0m   \u001b[0mrecognizer\u001b[0m \u001b[0;34m=\u001b[0m \u001b[0msr\u001b[0m\u001b[0;34m.\u001b[0m\u001b[0mRecognizer\u001b[0m\u001b[0;34m(\u001b[0m\u001b[0;34m)\u001b[0m\u001b[0;34m\u001b[0m\u001b[0;34m\u001b[0m\u001b[0m\n\u001b[0;32m---> 10\u001b[0;31m   \u001b[0;32mwith\u001b[0m \u001b[0msr\u001b[0m\u001b[0;34m.\u001b[0m\u001b[0mMicrophone\u001b[0m\u001b[0;34m(\u001b[0m\u001b[0;34m)\u001b[0m \u001b[0;32mas\u001b[0m \u001b[0msource\u001b[0m\u001b[0;34m:\u001b[0m\u001b[0;34m\u001b[0m\u001b[0;34m\u001b[0m\u001b[0m\n\u001b[0m\u001b[1;32m     11\u001b[0m     \u001b[0mprint\u001b[0m\u001b[0;34m(\u001b[0m\u001b[0;34m\"Listing......\"\u001b[0m\u001b[0;34m)\u001b[0m\u001b[0;34m\u001b[0m\u001b[0;34m\u001b[0m\u001b[0m\n\u001b[1;32m     12\u001b[0m     \u001b[0mrecognizer\u001b[0m\u001b[0;34m.\u001b[0m\u001b[0madjuct_for_ambient_noise\u001b[0m\u001b[0;34m(\u001b[0m\u001b[0msource\u001b[0m\u001b[0;34m)\u001b[0m\u001b[0;34m\u001b[0m\u001b[0;34m\u001b[0m\u001b[0m\n",
            "\u001b[0;32m/usr/local/lib/python3.10/dist-packages/speech_recognition/__init__.py\u001b[0m in \u001b[0;36m__init__\u001b[0;34m(self, device_index, sample_rate, chunk_size)\u001b[0m\n\u001b[1;32m     80\u001b[0m                 \u001b[0;32massert\u001b[0m \u001b[0;36m0\u001b[0m \u001b[0;34m<=\u001b[0m \u001b[0mdevice_index\u001b[0m \u001b[0;34m<\u001b[0m \u001b[0mcount\u001b[0m\u001b[0;34m,\u001b[0m \u001b[0;34m\"Device index out of range ({} devices available; device index should be between 0 and {} inclusive)\"\u001b[0m\u001b[0;34m.\u001b[0m\u001b[0mformat\u001b[0m\u001b[0;34m(\u001b[0m\u001b[0mcount\u001b[0m\u001b[0;34m,\u001b[0m \u001b[0mcount\u001b[0m \u001b[0;34m-\u001b[0m \u001b[0;36m1\u001b[0m\u001b[0;34m)\u001b[0m\u001b[0;34m\u001b[0m\u001b[0;34m\u001b[0m\u001b[0m\n\u001b[1;32m     81\u001b[0m             \u001b[0;32mif\u001b[0m \u001b[0msample_rate\u001b[0m \u001b[0;32mis\u001b[0m \u001b[0;32mNone\u001b[0m\u001b[0;34m:\u001b[0m  \u001b[0;31m# automatically set the sample rate to the hardware's default sample rate if not specified\u001b[0m\u001b[0;34m\u001b[0m\u001b[0;34m\u001b[0m\u001b[0m\n\u001b[0;32m---> 82\u001b[0;31m                 \u001b[0mdevice_info\u001b[0m \u001b[0;34m=\u001b[0m \u001b[0maudio\u001b[0m\u001b[0;34m.\u001b[0m\u001b[0mget_device_info_by_index\u001b[0m\u001b[0;34m(\u001b[0m\u001b[0mdevice_index\u001b[0m\u001b[0;34m)\u001b[0m \u001b[0;32mif\u001b[0m \u001b[0mdevice_index\u001b[0m \u001b[0;32mis\u001b[0m \u001b[0;32mnot\u001b[0m \u001b[0;32mNone\u001b[0m \u001b[0;32melse\u001b[0m \u001b[0maudio\u001b[0m\u001b[0;34m.\u001b[0m\u001b[0mget_default_input_device_info\u001b[0m\u001b[0;34m(\u001b[0m\u001b[0;34m)\u001b[0m\u001b[0;34m\u001b[0m\u001b[0;34m\u001b[0m\u001b[0m\n\u001b[0m\u001b[1;32m     83\u001b[0m                 \u001b[0;32massert\u001b[0m \u001b[0misinstance\u001b[0m\u001b[0;34m(\u001b[0m\u001b[0mdevice_info\u001b[0m\u001b[0;34m.\u001b[0m\u001b[0mget\u001b[0m\u001b[0;34m(\u001b[0m\u001b[0;34m\"defaultSampleRate\"\u001b[0m\u001b[0;34m)\u001b[0m\u001b[0;34m,\u001b[0m \u001b[0;34m(\u001b[0m\u001b[0mfloat\u001b[0m\u001b[0;34m,\u001b[0m \u001b[0mint\u001b[0m\u001b[0;34m)\u001b[0m\u001b[0;34m)\u001b[0m \u001b[0;32mand\u001b[0m \u001b[0mdevice_info\u001b[0m\u001b[0;34m[\u001b[0m\u001b[0;34m\"defaultSampleRate\"\u001b[0m\u001b[0;34m]\u001b[0m \u001b[0;34m>\u001b[0m \u001b[0;36m0\u001b[0m\u001b[0;34m,\u001b[0m \u001b[0;34m\"Invalid device info returned from PyAudio: {}\"\u001b[0m\u001b[0;34m.\u001b[0m\u001b[0mformat\u001b[0m\u001b[0;34m(\u001b[0m\u001b[0mdevice_info\u001b[0m\u001b[0;34m)\u001b[0m\u001b[0;34m\u001b[0m\u001b[0;34m\u001b[0m\u001b[0m\n\u001b[1;32m     84\u001b[0m                 \u001b[0msample_rate\u001b[0m \u001b[0;34m=\u001b[0m \u001b[0mint\u001b[0m\u001b[0;34m(\u001b[0m\u001b[0mdevice_info\u001b[0m\u001b[0;34m[\u001b[0m\u001b[0;34m\"defaultSampleRate\"\u001b[0m\u001b[0;34m]\u001b[0m\u001b[0;34m)\u001b[0m\u001b[0;34m\u001b[0m\u001b[0;34m\u001b[0m\u001b[0m\n",
            "\u001b[0;32m/usr/local/lib/python3.10/dist-packages/pyaudio/__init__.py\u001b[0m in \u001b[0;36mget_default_input_device_info\u001b[0;34m(self)\u001b[0m\n\u001b[1;32m    810\u001b[0m         \u001b[0;34m:\u001b[0m\u001b[0mrtype\u001b[0m\u001b[0;34m:\u001b[0m \u001b[0mdict\u001b[0m\u001b[0;34m\u001b[0m\u001b[0;34m\u001b[0m\u001b[0m\n\u001b[1;32m    811\u001b[0m         \"\"\"\n\u001b[0;32m--> 812\u001b[0;31m         \u001b[0mdevice_index\u001b[0m \u001b[0;34m=\u001b[0m \u001b[0mpa\u001b[0m\u001b[0;34m.\u001b[0m\u001b[0mget_default_input_device\u001b[0m\u001b[0;34m(\u001b[0m\u001b[0;34m)\u001b[0m\u001b[0;34m\u001b[0m\u001b[0;34m\u001b[0m\u001b[0m\n\u001b[0m\u001b[1;32m    813\u001b[0m         \u001b[0;32mreturn\u001b[0m \u001b[0mself\u001b[0m\u001b[0;34m.\u001b[0m\u001b[0mget_device_info_by_index\u001b[0m\u001b[0;34m(\u001b[0m\u001b[0mdevice_index\u001b[0m\u001b[0;34m)\u001b[0m\u001b[0;34m\u001b[0m\u001b[0;34m\u001b[0m\u001b[0m\n\u001b[1;32m    814\u001b[0m \u001b[0;34m\u001b[0m\u001b[0m\n",
            "\u001b[0;31mOSError\u001b[0m: No Default Input Device Available"
          ]
        }
      ]
    }
  ],
  "metadata": {
    "colab": {
      "provenance": []
    },
    "kernelspec": {
      "display_name": "Python 3",
      "name": "python3"
    },
    "language_info": {
      "name": "python"
    }
  },
  "nbformat": 4,
  "nbformat_minor": 0
}